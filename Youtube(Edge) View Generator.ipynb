{
 "cells": [
  {
   "cell_type": "code",
   "execution_count": null,
   "metadata": {},
   "outputs": [],
   "source": [
    "from selenium import webdriver \n",
    "from selenium.webdriver.support.ui import WebDriverWait \n",
    "import time \n",
    "import os\n",
    "import sys\n",
    "\n",
    "for i in range(750):    \n",
    "    print(\"Iteration number: \",i)\n",
    "    try:\n",
    "        driver = webdriver.Edge('C:\\Windows\\System32\\MicrosoftWebDriver.exe')\n",
    "        driver.get(\"https://www.youtube.com/watch?v=y63oUgzdPSI\")            \n",
    "        wait = WebDriverWait(driver, 5)\n",
    "        time.sleep(360)\n",
    "        driver.close()\n",
    "    except:\n",
    "        continue"
   ]
  }
 ],
 "metadata": {
  "kernelspec": {
   "display_name": "Python 3",
   "language": "python",
   "name": "python3"
  },
  "language_info": {
   "codemirror_mode": {
    "name": "ipython",
    "version": 3
   },
   "file_extension": ".py",
   "mimetype": "text/x-python",
   "name": "python",
   "nbconvert_exporter": "python",
   "pygments_lexer": "ipython3",
   "version": "3.7.3"
  }
 },
 "nbformat": 4,
 "nbformat_minor": 2
}
